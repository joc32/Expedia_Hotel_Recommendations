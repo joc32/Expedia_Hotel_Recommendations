{
 "cells": [
  {
   "cell_type": "code",
   "execution_count": 0,
   "metadata": {
    "id": "x2yP0_VAo0Vr",
    "colab_type": "code",
    "outputId": "e21c80cf-f2c5-4ed7-a6c5-edbe4a8dd868",
    "colab": {
     "base_uri": "https://localhost:8080/",
     "height": 71.0
    }
   },
   "outputs": [
    {
     "name": "stderr",
     "output_type": "stream",
     "text": [
      "/usr/local/lib/python3.6/dist-packages/statsmodels/tools/_testing.py:19: FutureWarning: pandas.util.testing is deprecated. Use the functions in the public API at pandas.testing instead.\n",
      "  import pandas.util.testing as tm\n"
     ]
    }
   ],
   "source": [
    "import pandas as pd\n",
    "from sklearn.model_selection import train_test_split\n",
    "import matplotlib.pyplot as plt\n",
    "import numpy as np\n",
    "import warnings\n",
    "from scipy import spatial\n",
    "from sklearn.metrics import pairwise_distances\n",
    "from scipy.spatial.distance import cosine\n",
    "import seaborn as sns\n",
    "warnings.filterwarnings('ignore')\n",
    "from sklearn.metrics.pairwise import cosine_similarity,euclidean_distances"
   ]
  },
  {
   "cell_type": "code",
   "execution_count": 0,
   "metadata": {
    "id": "7U7CBBtmTa6k",
    "colab_type": "code",
    "colab": {}
   },
   "outputs": [],
   "source": [
    "def calculate_RAM(dim_x,dim_y):\n",
    "  n = np.zeros((dim_x,dim_y))\n",
    "  z = (n.size * n.itemsize)\n",
    "  print('Matrix takes: ',z/1000000000,'GB RAM')"
   ]
  },
  {
   "cell_type": "code",
   "execution_count": 0,
   "metadata": {
    "id": "mth7YKM6pLeT",
    "colab_type": "code",
    "colab": {}
   },
   "outputs": [],
   "source": [
    "def test_cosine():\n",
    "  # Calculations done on the array in the excel spreadsheet.\n",
    "  test_arr = np.array([[0,1,1,5,1,0],[1,1,1,5,1,0]])\n",
    "  n_clusters = 6\n",
    "  print(test_arr) # Our excel data\n",
    "\n",
    "  # Column vector with row sums of ratings. \n",
    "  row_sums = np.sum(test_arr,axis=1)\n",
    "  print(row_sums)\n",
    "\n",
    "  # Column vector with row sums / N clusters\n",
    "  inter_mediate = row_sums / len(test_arr[0])\n",
    "  print(inter_mediate)\n",
    "  \n",
    "  # Subtraction\n",
    "  # Subtract the column vector with row sums / N clusters from\n",
    "  # Our ratings matrix. \n",
    "  test_arr = test_arr - inter_mediate[:,None]\n",
    "  print(test_arr)\n",
    "  \n",
    "  #Sum of squares\n",
    "  ssq = np.sum(test_arr**2, axis=1)\n",
    "  print(ssq)\n",
    "  \n",
    "  #Squared sum of squares\n",
    "  ssq = np.sqrt(ssq)\n",
    "  print(ssq)\n",
    "\n",
    "  # last step. A_k * B_k / squared sum of squares A, ssq B. \n",
    "  cd = np.sum(np.prod(test_arr,axis=0))/np.prod(ssq)\n",
    "  print('our cosine similarty is', cd)\n",
    "\n",
    "  # Test it using Library\n",
    "  result = 1 - spatial.distance.cosine(test_arr[0], test_arr[1])\n",
    "  assert cd == result\n",
    "\n",
    "  print('distance matrix')\n",
    "  dist_out = 1-pairwise_distances(test_arr, metric=\"cosine\")\n",
    "  print(dist_out)"
   ]
  },
  {
   "cell_type": "code",
   "execution_count": 0,
   "metadata": {
    "id": "56of-EysqGIx",
    "colab_type": "code",
    "colab": {}
   },
   "outputs": [],
   "source": [
    "def get_distance_matrix(matrix):\n",
    "\n",
    "  # Calculations done on sliced utility matrix\n",
    "\n",
    "  # create column vector which has row sums of ratings. \n",
    "  row_sums = np.sum(matrix,axis=1)\n",
    "\n",
    "  #create intermediate column vector with rating sum / N clusters \n",
    "  inter_mediate = row_sums / matrix.shape[1]\n",
    "\n",
    "  # Take away the rating_sum / N clusters column vector \n",
    "  # from the sliced matrix\n",
    "  matrix = matrix - inter_mediate[:,None]\n",
    "\n",
    "  # Generate distance matrix using Sklearn library out of\n",
    "  # The normalised matrix.  \n",
    "  dist_out = 1-pairwise_distances(matrix, metric=\"cosine\")\n",
    "  return dist_out"
   ]
  },
  {
   "cell_type": "code",
   "execution_count": 0,
   "metadata": {
    "id": "1SNj7vQYuBPj",
    "colab_type": "code",
    "outputId": "8e3932f6-4cfe-49bf-e6c8-6c4f23cf5e8e",
    "colab": {
     "base_uri": "https://localhost:8080/",
     "height": 34.0
    }
   },
   "outputs": [
    {
     "name": "stdout",
     "output_type": "stream",
     "text": [
      "number of rows in sample 376703\n"
     ]
    }
   ],
   "source": [
    "train = pd.read_csv('drive/My Drive/Data_mining/1percent.csv')\n",
    "print('number of rows in sample', len(train))\n",
    "train.drop(columns=['date_time'],inplace=True)"
   ]
  },
  {
   "cell_type": "code",
   "execution_count": 0,
   "metadata": {
    "id": "nTQcdcQULadb",
    "colab_type": "code",
    "outputId": "ed3e7dec-4cab-4f64-a740-21ba36c9d016",
    "colab": {
     "base_uri": "https://localhost:8080/",
     "height": 34.0
    }
   },
   "outputs": [
    {
     "name": "stdout",
     "output_type": "stream",
     "text": [
      "Mounted at /content/drive\n"
     ]
    }
   ],
   "source": [
    "from google.colab import drive\n",
    "drive.mount('/content/drive')"
   ]
  },
  {
   "cell_type": "code",
   "execution_count": 0,
   "metadata": {
    "id": "IgsFw1YkuXFj",
    "colab_type": "code",
    "outputId": "234eb13e-7084-491c-ef25-b0696e161566",
    "colab": {
     "base_uri": "https://localhost:8080/",
     "height": 230.0
    }
   },
   "outputs": [
    {
     "data": {
      "text/html": [
       "<div>\n",
       "<style scoped>\n",
       "    .dataframe tbody tr th:only-of-type {\n",
       "        vertical-align: middle;\n",
       "    }\n",
       "\n",
       "    .dataframe tbody tr th {\n",
       "        vertical-align: top;\n",
       "    }\n",
       "\n",
       "    .dataframe thead th {\n",
       "        text-align: right;\n",
       "    }\n",
       "</style>\n",
       "<table border=\"1\" class=\"dataframe\">\n",
       "  <thead>\n",
       "    <tr style=\"text-align: right;\">\n",
       "      <th></th>\n",
       "      <th>Unnamed: 0</th>\n",
       "      <th>site_name</th>\n",
       "      <th>posa_continent</th>\n",
       "      <th>user_location_country</th>\n",
       "      <th>user_location_region</th>\n",
       "      <th>user_location_city</th>\n",
       "      <th>orig_destination_distance</th>\n",
       "      <th>user_id</th>\n",
       "      <th>is_mobile</th>\n",
       "      <th>is_package</th>\n",
       "      <th>channel</th>\n",
       "      <th>srch_ci</th>\n",
       "      <th>srch_co</th>\n",
       "      <th>srch_adults_cnt</th>\n",
       "      <th>srch_children_cnt</th>\n",
       "      <th>srch_rm_cnt</th>\n",
       "      <th>srch_destination_id</th>\n",
       "      <th>srch_destination_type_id</th>\n",
       "      <th>is_booking</th>\n",
       "      <th>cnt</th>\n",
       "      <th>hotel_continent</th>\n",
       "      <th>hotel_country</th>\n",
       "      <th>hotel_market</th>\n",
       "      <th>hotel_cluster</th>\n",
       "    </tr>\n",
       "  </thead>\n",
       "  <tbody>\n",
       "    <tr>\n",
       "      <th>0</th>\n",
       "      <td>3759409</td>\n",
       "      <td>2</td>\n",
       "      <td>3</td>\n",
       "      <td>181</td>\n",
       "      <td>238</td>\n",
       "      <td>14762</td>\n",
       "      <td>NaN</td>\n",
       "      <td>137728</td>\n",
       "      <td>0</td>\n",
       "      <td>1</td>\n",
       "      <td>9</td>\n",
       "      <td>2014-11-16</td>\n",
       "      <td>2014-11-19</td>\n",
       "      <td>2</td>\n",
       "      <td>1</td>\n",
       "      <td>1</td>\n",
       "      <td>8747</td>\n",
       "      <td>1</td>\n",
       "      <td>0</td>\n",
       "      <td>1</td>\n",
       "      <td>3</td>\n",
       "      <td>106</td>\n",
       "      <td>107</td>\n",
       "      <td>89</td>\n",
       "    </tr>\n",
       "    <tr>\n",
       "      <th>1</th>\n",
       "      <td>24267012</td>\n",
       "      <td>2</td>\n",
       "      <td>3</td>\n",
       "      <td>66</td>\n",
       "      <td>174</td>\n",
       "      <td>3968</td>\n",
       "      <td>2263.7652</td>\n",
       "      <td>614586</td>\n",
       "      <td>0</td>\n",
       "      <td>0</td>\n",
       "      <td>9</td>\n",
       "      <td>2014-09-11</td>\n",
       "      <td>2014-09-14</td>\n",
       "      <td>4</td>\n",
       "      <td>0</td>\n",
       "      <td>1</td>\n",
       "      <td>17520</td>\n",
       "      <td>3</td>\n",
       "      <td>0</td>\n",
       "      <td>1</td>\n",
       "      <td>2</td>\n",
       "      <td>50</td>\n",
       "      <td>682</td>\n",
       "      <td>0</td>\n",
       "    </tr>\n",
       "    <tr>\n",
       "      <th>2</th>\n",
       "      <td>12893449</td>\n",
       "      <td>2</td>\n",
       "      <td>3</td>\n",
       "      <td>66</td>\n",
       "      <td>356</td>\n",
       "      <td>22202</td>\n",
       "      <td>9232.4460</td>\n",
       "      <td>1116495</td>\n",
       "      <td>0</td>\n",
       "      <td>0</td>\n",
       "      <td>9</td>\n",
       "      <td>2014-11-18</td>\n",
       "      <td>2014-11-21</td>\n",
       "      <td>1</td>\n",
       "      <td>0</td>\n",
       "      <td>1</td>\n",
       "      <td>8807</td>\n",
       "      <td>1</td>\n",
       "      <td>0</td>\n",
       "      <td>3</td>\n",
       "      <td>0</td>\n",
       "      <td>63</td>\n",
       "      <td>1193</td>\n",
       "      <td>46</td>\n",
       "    </tr>\n",
       "  </tbody>\n",
       "</table>\n",
       "</div>"
      ],
      "text/plain": [
       "   Unnamed: 0  site_name  ...  hotel_market  hotel_cluster\n",
       "0     3759409          2  ...           107             89\n",
       "1    24267012          2  ...           682              0\n",
       "2    12893449          2  ...          1193             46\n",
       "\n",
       "[3 rows x 24 columns]"
      ]
     },
     "execution_count": 38,
     "metadata": {
      "tags": []
     },
     "output_type": "execute_result"
    }
   ],
   "source": [
    "train.head(3)"
   ]
  },
  {
   "cell_type": "code",
   "execution_count": 0,
   "metadata": {
    "id": "8NOi3IpLzEDZ",
    "colab_type": "code",
    "colab": {}
   },
   "outputs": [],
   "source": [
    "col_list = ['user_id','hotel_cluster','is_booking', 'srch_destination_id']\n",
    "subset_data = train[col_list]\n",
    "subset_data['rating'] = pd.Series(dtype=float)"
   ]
  },
  {
   "cell_type": "code",
   "execution_count": 0,
   "metadata": {
    "id": "6024KKly0hv2",
    "colab_type": "code",
    "colab": {}
   },
   "outputs": [],
   "source": [
    "subset_data.sort_values(by=['user_id'],inplace=True)"
   ]
  },
  {
   "cell_type": "markdown",
   "metadata": {
    "id": "ljG9QIwuwIsw",
    "colab_type": "text"
   },
   "source": [
    "#Create User - Item Matrix out of User-ID's and Rankings. \n",
    "\n",
    "In the later experiments, we will use user ID representing user; and hotel cluster repre- senting item. When a hotel cluster is viewed by a user, rating of 1 is given; when a hotel is booked, rating of 5 is given."
   ]
  },
  {
   "cell_type": "code",
   "execution_count": 0,
   "metadata": {
    "id": "fRXV2hOtumEB",
    "colab_type": "code",
    "outputId": "dfb2cb29-b6a5-402f-c0ee-bbcaba1b0bc0",
    "colab": {
     "base_uri": "https://localhost:8080/",
     "height": 34.0
    }
   },
   "outputs": [
    {
     "data": {
      "text/plain": [
       "262231"
      ]
     },
     "execution_count": 41,
     "metadata": {
      "tags": []
     },
     "output_type": "execute_result"
    }
   ],
   "source": [
    "# First some statistics on user_id and hotel clusters.\n",
    "subset_data['user_id'].nunique() # out of 376703 ids, 262231 are unique. "
   ]
  },
  {
   "cell_type": "code",
   "execution_count": 0,
   "metadata": {
    "id": "-qbQ8bVQwORc",
    "colab_type": "code",
    "outputId": "5c9b9cc8-e0d7-47d8-b72d-a361c82d9a24",
    "colab": {
     "base_uri": "https://localhost:8080/",
     "height": 85.0
    }
   },
   "outputs": [
    {
     "name": "stdout",
     "output_type": "stream",
     "text": [
      "        user_id  hotel_cluster  is_booking  srch_destination_id  rating\n",
      "105418   137728             65           0                11439     NaN\n",
      "0        137728             89           0                 8747     NaN\n",
      "3461     137728             64           0                 8282     NaN\n"
     ]
    }
   ],
   "source": [
    "# Test: find all hotel clusters clicked by user_id 137728. \n",
    "z = subset_data[subset_data['user_id']==137728]\n",
    "print(z)"
   ]
  },
  {
   "cell_type": "code",
   "execution_count": 0,
   "metadata": {
    "id": "e6GIvvfb1UDz",
    "colab_type": "code",
    "outputId": "88a46995-74e2-41c1-fd3a-cf0457bfd573",
    "colab": {
     "base_uri": "https://localhost:8080/",
     "height": 204.0
    }
   },
   "outputs": [
    {
     "data": {
      "text/html": [
       "<div>\n",
       "<style scoped>\n",
       "    .dataframe tbody tr th:only-of-type {\n",
       "        vertical-align: middle;\n",
       "    }\n",
       "\n",
       "    .dataframe tbody tr th {\n",
       "        vertical-align: top;\n",
       "    }\n",
       "\n",
       "    .dataframe thead th {\n",
       "        text-align: right;\n",
       "    }\n",
       "</style>\n",
       "<table border=\"1\" class=\"dataframe\">\n",
       "  <thead>\n",
       "    <tr style=\"text-align: right;\">\n",
       "      <th></th>\n",
       "      <th>user_id</th>\n",
       "      <th>hotel_cluster</th>\n",
       "      <th>is_booking</th>\n",
       "      <th>srch_destination_id</th>\n",
       "      <th>rating</th>\n",
       "    </tr>\n",
       "  </thead>\n",
       "  <tbody>\n",
       "    <tr>\n",
       "      <th>205210</th>\n",
       "      <td>9</td>\n",
       "      <td>99</td>\n",
       "      <td>0</td>\n",
       "      <td>12227</td>\n",
       "      <td>NaN</td>\n",
       "    </tr>\n",
       "    <tr>\n",
       "      <th>291780</th>\n",
       "      <td>13</td>\n",
       "      <td>15</td>\n",
       "      <td>0</td>\n",
       "      <td>8255</td>\n",
       "      <td>NaN</td>\n",
       "    </tr>\n",
       "    <tr>\n",
       "      <th>57853</th>\n",
       "      <td>13</td>\n",
       "      <td>59</td>\n",
       "      <td>0</td>\n",
       "      <td>8255</td>\n",
       "      <td>NaN</td>\n",
       "    </tr>\n",
       "    <tr>\n",
       "      <th>164574</th>\n",
       "      <td>13</td>\n",
       "      <td>29</td>\n",
       "      <td>0</td>\n",
       "      <td>8255</td>\n",
       "      <td>NaN</td>\n",
       "    </tr>\n",
       "    <tr>\n",
       "      <th>16570</th>\n",
       "      <td>13</td>\n",
       "      <td>64</td>\n",
       "      <td>0</td>\n",
       "      <td>11816</td>\n",
       "      <td>NaN</td>\n",
       "    </tr>\n",
       "  </tbody>\n",
       "</table>\n",
       "</div>"
      ],
      "text/plain": [
       "        user_id  hotel_cluster  is_booking  srch_destination_id  rating\n",
       "205210        9             99           0                12227     NaN\n",
       "291780       13             15           0                 8255     NaN\n",
       "57853        13             59           0                 8255     NaN\n",
       "164574       13             29           0                 8255     NaN\n",
       "16570        13             64           0                11816     NaN"
      ]
     },
     "execution_count": 43,
     "metadata": {
      "tags": []
     },
     "output_type": "execute_result"
    }
   ],
   "source": [
    "subset_data.head(5) # Our data is sorted. "
   ]
  },
  {
   "cell_type": "code",
   "execution_count": 0,
   "metadata": {
    "id": "5TxjCUkn1V8u",
    "colab_type": "code",
    "outputId": "dedb4221-a4e3-4629-f412-9d788c4dbbef",
    "colab": {
     "base_uri": "https://localhost:8080/",
     "height": 34.0
    }
   },
   "outputs": [
    {
     "name": "stdout",
     "output_type": "stream",
     "text": [
      "30270\n"
     ]
    }
   ],
   "source": [
    "c = subset_data[subset_data['is_booking'] ==1]\n",
    "print(len(c)) #number of bookings. "
   ]
  },
  {
   "cell_type": "code",
   "execution_count": 0,
   "metadata": {
    "id": "qaWGWgV-1p7c",
    "colab_type": "code",
    "outputId": "615b0d77-9212-4e40-c8f4-56344ee04d2a",
    "colab": {
     "base_uri": "https://localhost:8080/",
     "height": 281.0
    }
   },
   "outputs": [
    {
     "data": {
      "image/png": "[encoded data removed]",
      "text/plain": [
       "<Figure size 432x288 with 1 Axes>"
      ]
     },
     "metadata": {
      "tags": []
     },
     "output_type": "display_data"
    }
   ],
   "source": [
    "plt.figure()\n",
    "plt.hist(subset_data['is_booking'])\n",
    "plt.title('0 if click, 1 if a booking')\n",
    "plt.show()"
   ]
  },
  {
   "cell_type": "code",
   "execution_count": 0,
   "metadata": {
    "id": "BODRIaPd2bo5",
    "colab_type": "code",
    "colab": {}
   },
   "outputs": [],
   "source": [
    "# Where booking == 1, give rating 5 otherwise give rating 1. \n",
    "subset_data['rating'] = np.where((subset_data['is_booking']==1),5,1)"
   ]
  },
  {
   "cell_type": "code",
   "execution_count": 0,
   "metadata": {
    "id": "ukvVbmFr2vGw",
    "colab_type": "code",
    "outputId": "8e290a5a-742c-498f-8e4b-28d80a0d3224",
    "colab": {
     "base_uri": "https://localhost:8080/",
     "height": 119.0
    }
   },
   "outputs": [
    {
     "name": "stdout",
     "output_type": "stream",
     "text": [
      "        user_id  hotel_cluster  rating\n",
      "205210        9             99       1\n",
      "291780       13             15       1\n",
      "57853        13             59       1\n",
      "164574       13             29       1\n",
      "16570        13             64       1\n"
     ]
    }
   ],
   "source": [
    "# lets test our approach on first twenty rows. \n",
    "data_matrix = subset_data.iloc[:,[0,1,4]]\n",
    "print(data_matrix.head(5))\n",
    "data_matrix = data_matrix.to_numpy()"
   ]
  },
  {
   "cell_type": "code",
   "execution_count": 0,
   "metadata": {
    "id": "hIFqYli5Xjgn",
    "colab_type": "code",
    "outputId": "506b5e85-c998-44e1-fb3c-a47784654871",
    "colab": {
     "base_uri": "https://localhost:8080/",
     "height": 204.0
    }
   },
   "outputs": [
    {
     "data": {
      "text/html": [
       "<div>\n",
       "<style scoped>\n",
       "    .dataframe tbody tr th:only-of-type {\n",
       "        vertical-align: middle;\n",
       "    }\n",
       "\n",
       "    .dataframe tbody tr th {\n",
       "        vertical-align: top;\n",
       "    }\n",
       "\n",
       "    .dataframe thead th {\n",
       "        text-align: right;\n",
       "    }\n",
       "</style>\n",
       "<table border=\"1\" class=\"dataframe\">\n",
       "  <thead>\n",
       "    <tr style=\"text-align: right;\">\n",
       "      <th></th>\n",
       "      <th>user_id</th>\n",
       "      <th>hotel_cluster</th>\n",
       "      <th>is_booking</th>\n",
       "      <th>srch_destination_id</th>\n",
       "      <th>rating</th>\n",
       "    </tr>\n",
       "  </thead>\n",
       "  <tbody>\n",
       "    <tr>\n",
       "      <th>205210</th>\n",
       "      <td>9</td>\n",
       "      <td>99</td>\n",
       "      <td>0</td>\n",
       "      <td>12227</td>\n",
       "      <td>1</td>\n",
       "    </tr>\n",
       "    <tr>\n",
       "      <th>291780</th>\n",
       "      <td>13</td>\n",
       "      <td>15</td>\n",
       "      <td>0</td>\n",
       "      <td>8255</td>\n",
       "      <td>1</td>\n",
       "    </tr>\n",
       "    <tr>\n",
       "      <th>57853</th>\n",
       "      <td>13</td>\n",
       "      <td>59</td>\n",
       "      <td>0</td>\n",
       "      <td>8255</td>\n",
       "      <td>1</td>\n",
       "    </tr>\n",
       "    <tr>\n",
       "      <th>164574</th>\n",
       "      <td>13</td>\n",
       "      <td>29</td>\n",
       "      <td>0</td>\n",
       "      <td>8255</td>\n",
       "      <td>1</td>\n",
       "    </tr>\n",
       "    <tr>\n",
       "      <th>16570</th>\n",
       "      <td>13</td>\n",
       "      <td>64</td>\n",
       "      <td>0</td>\n",
       "      <td>11816</td>\n",
       "      <td>1</td>\n",
       "    </tr>\n",
       "  </tbody>\n",
       "</table>\n",
       "</div>"
      ],
      "text/plain": [
       "        user_id  hotel_cluster  is_booking  srch_destination_id  rating\n",
       "205210        9             99           0                12227       1\n",
       "291780       13             15           0                 8255       1\n",
       "57853        13             59           0                 8255       1\n",
       "164574       13             29           0                 8255       1\n",
       "16570        13             64           0                11816       1"
      ]
     },
     "execution_count": 48,
     "metadata": {
      "tags": []
     },
     "output_type": "execute_result"
    }
   ],
   "source": [
    "subset_data.head(5)"
   ]
  },
  {
   "cell_type": "code",
   "execution_count": 0,
   "metadata": {
    "id": "__qeM3S-4tcL",
    "colab_type": "code",
    "outputId": "65df4d1f-45ec-4a79-e0f5-9e5a8ae1f88e",
    "colab": {
     "base_uri": "https://localhost:8080/",
     "height": 187.0
    }
   },
   "outputs": [
    {
     "data": {
      "text/plain": [
       "array([[ 9, 99,  1],\n",
       "       [13, 15,  1],\n",
       "       [13, 59,  1],\n",
       "       [13, 29,  1],\n",
       "       [13, 64,  1],\n",
       "       [33, 79,  1],\n",
       "       [36, 68,  1],\n",
       "       [40, 23,  1],\n",
       "       [56, 44,  1],\n",
       "       [79, 52,  1]])"
      ]
     },
     "execution_count": 49,
     "metadata": {
      "tags": []
     },
     "output_type": "execute_result"
    }
   ],
   "source": [
    "#Print first 10 rows of data_matrix.\n",
    "data_matrix[0:10,:]"
   ]
  },
  {
   "cell_type": "code",
   "execution_count": 0,
   "metadata": {
    "id": "H_4NmHAS5U7T",
    "colab_type": "code",
    "outputId": "217f048c-b1a7-4c27-d131-4e10aacf0a13",
    "colab": {
     "base_uri": "https://localhost:8080/",
     "height": 51.0
    }
   },
   "outputs": [
    {
     "name": "stdout",
     "output_type": "stream",
     "text": [
      "last user id is 1198777\n",
      "our utility matrix has shape (1198778, 100)\n"
     ]
    }
   ],
   "source": [
    "last_user_id =subset_data.iloc[-1].user_id # 1198777 # Last user_id.\n",
    "print('last user id is', last_user_id)\n",
    "utility_matrix = np.zeros(dtype=int,shape=(last_user_id+1,100))\n",
    "print('our utility matrix has shape', utility_matrix.shape)"
   ]
  },
  {
   "cell_type": "code",
   "execution_count": 0,
   "metadata": {
    "id": "iB6sg6gw8m4w",
    "colab_type": "code",
    "colab": {}
   },
   "outputs": [],
   "source": [
    "#Fill the utility matrix. \n",
    "# Add data_matrix[:,2] list of ratings to X and Y coordinates denoted in X. \n",
    "# Takes around 20 seconds\n",
    "x = [data_matrix[:,0], data_matrix[:,1]] \n",
    "np.add.at(utility_matrix,x,data_matrix[:,2])\n",
    "np.savetxt(\"foo.csv\", utility_matrix, delimiter=\",\")"
   ]
  },
  {
   "cell_type": "code",
   "execution_count": 0,
   "metadata": {
    "id": "N1fEuiXBTtZR",
    "colab_type": "code",
    "outputId": "ab16bfd7-1766-4cd8-e598-69cc4859e504",
    "colab": {
     "base_uri": "https://localhost:8080/",
     "height": 34.0
    }
   },
   "outputs": [
    {
     "name": "stdout",
     "output_type": "stream",
     "text": [
      "Matrix takes:  0.9590224 GB RAM\n"
     ]
    }
   ],
   "source": [
    "calculate_RAM(utility_matrix.shape[0],utility_matrix.shape[1])"
   ]
  },
  {
   "cell_type": "markdown",
   "metadata": {
    "id": "9I3MF7uCU4pl",
    "colab_type": "text"
   },
   "source": [
    "## Normalisation of matrix. "
   ]
  },
  {
   "cell_type": "code",
   "execution_count": 0,
   "metadata": {
    "id": "kaU4wj2OVM2e",
    "colab_type": "code",
    "outputId": "b3af1e47-3f90-4c70-b45e-8274f718b0ff",
    "colab": {
     "base_uri": "https://localhost:8080/",
     "height": 221.0
    }
   },
   "outputs": [
    {
     "name": "stdout",
     "output_type": "stream",
     "text": [
      "[[0 1 1 5 1 0]\n",
      " [1 1 1 5 1 0]]\n",
      "[8 9]\n",
      "[1.33333333 1.5       ]\n",
      "[[-1.33333333 -0.33333333 -0.33333333  3.66666667 -0.33333333 -1.33333333]\n",
      " [-0.5        -0.5        -0.5         3.5        -0.5        -1.5       ]]\n",
      "[17.33333333 15.5       ]\n",
      "[4.163332   3.93700394]\n",
      "our cosine similarty is 0.9761422017385009\n",
      "distance matrix\n",
      "[[1.        0.9761422]\n",
      " [0.9761422 1.       ]]\n"
     ]
    }
   ],
   "source": [
    "test_cosine()"
   ]
  },
  {
   "cell_type": "code",
   "execution_count": 0,
   "metadata": {
    "id": "HC44KN64n7_S",
    "colab_type": "code",
    "colab": {}
   },
   "outputs": [],
   "source": [
    "# Perform the operation on first 1000 rows yet, \n",
    "# Due to ram Limitations\n",
    "sliced_matrix = utility_matrix[0:1000,:]\n",
    "do = get_distance_matrix(sliced_matrix)\n"
   ]
  },
  {
   "cell_type": "code",
   "execution_count": 0,
   "metadata": {
    "id": "HHBvSRAenwZX",
    "colab_type": "code",
    "outputId": "67375843-3c2d-4970-ec68-fb6baf6193a1",
    "colab": {
     "base_uri": "https://localhost:8080/",
     "height": 780.0
    }
   },
   "outputs": [
    {
     "data": {
      "image/png": "[encoded data removed]",
      "text/plain": [
       "<Figure size 1224x1224 with 2 Axes>"
      ]
     },
     "metadata": {
      "tags": []
     },
     "output_type": "display_data"
    }
   ],
   "source": [
    "plt.figure(figsize=(17,17))\n",
    "sns.heatmap(do)\n",
    "plt.title('Cosine Distance Matrix from first 1000 rows')\n",
    "plt.show()"
   ]
  },
  {
   "cell_type": "markdown",
   "metadata": {
    "id": "cBhJXHb2P0Kx",
    "colab_type": "text"
   },
   "source": [
    "# Clustering Users based on Distance Matrix"
   ]
  },
  {
   "cell_type": "code",
   "execution_count": 0,
   "metadata": {
    "id": "_NzUueRnP37P",
    "colab_type": "code",
    "outputId": "75e7f3f1-c769-4eb4-80ab-e370f49ee133",
    "colab": {
     "base_uri": "https://localhost:8080/",
     "height": 136.0
    }
   },
   "outputs": [
    {
     "name": "stdout",
     "output_type": "stream",
     "text": [
      "[[9.00000000e+00 1.57000000e+02 0.00000000e+00 2.00000000e+00]\n",
      " [8.41000000e+02 9.28000000e+02 1.57009246e-16 2.00000000e+00]\n",
      " [2.30000000e+02 3.18000000e+02 1.57009246e-16 2.00000000e+00]\n",
      " ...\n",
      " [1.06300000e+03 1.99500000e+03 8.44653916e+00 9.85000000e+02]\n",
      " [1.08600000e+03 1.99600000e+03 9.22581667e+00 9.92000000e+02]\n",
      " [1.94600000e+03 1.99700000e+03 1.06159735e+01 1.00000000e+03]]\n"
     ]
    }
   ],
   "source": [
    "from scipy.cluster.hierarchy import dendrogram, linkage, ward\n",
    "\n",
    "Z = linkage(do, 'ward')\n",
    "print(Z)\n"
   ]
  },
  {
   "cell_type": "code",
   "execution_count": 0,
   "metadata": {
    "id": "WfhJtvBmQWCx",
    "colab_type": "code",
    "outputId": "78599b91-abf5-4afd-b7ba-0a625fe6c4c3",
    "colab": {
     "base_uri": "https://localhost:8080/",
     "height": 369.0
    }
   },
   "outputs": [
    {
     "data": {
      "image/png": "[encoded data removed]",
      "text/plain": [
       "<Figure size 576x360 with 1 Axes>"
      ]
     },
     "metadata": {
      "tags": []
     },
     "output_type": "display_data"
    }
   ],
   "source": [
    "fig, ax = plt.subplots(figsize=(8, 5)) # set size\n",
    "ax = dendrogram(Z, orientation=\"top\",show_leaf_counts=True);\n",
    "\n",
    "### Visualising it is pretty useless\n",
    "plt.tick_params(\n",
    "    axis= 'y',          # changes apply to the x-axis\n",
    "    which='off',      # both major and minor ticks are affected\n",
    "    bottom='off',      # ticks along the bottom edge are off\n",
    "    top='off',         # ticks along the top edge are off\n",
    "    labelbottom='off')\n",
    "\n",
    "plt.tight_layout() #show plot with tight layout"
   ]
  },
  {
   "cell_type": "code",
   "execution_count": 0,
   "metadata": {
    "id": "OisxhF3cTJeN",
    "colab_type": "code",
    "colab": {}
   },
   "outputs": [],
   "source": [
    "from sklearn.cluster import AgglomerativeClustering\n",
    "\n",
    "cluster = AgglomerativeClustering(n_clusters=112,affinity='euclidean', linkage='ward')\n",
    "\n",
    "### The clusters assigned to user proiles\n",
    "clusters = cluster.fit_predict(do)\n"
   ]
  },
  {
   "cell_type": "code",
   "execution_count": 0,
   "metadata": {
    "id": "o1qdd6gcVzqS",
    "colab_type": "code",
    "colab": {}
   },
   "outputs": [],
   "source": [
    "test = subset_data.copy(deep=True)"
   ]
  },
  {
   "cell_type": "code",
   "execution_count": 0,
   "metadata": {
    "id": "0varbMvpSpPs",
    "colab_type": "code",
    "outputId": "ca19e1d0-9de8-4caa-e4b9-0f8c417e586d",
    "colab": {
     "base_uri": "https://localhost:8080/",
     "height": 979.0
    }
   },
   "outputs": [
    {
     "data": {
      "text/html": [
       "<div>\n",
       "<style scoped>\n",
       "    .dataframe tbody tr th:only-of-type {\n",
       "        vertical-align: middle;\n",
       "    }\n",
       "\n",
       "    .dataframe tbody tr th {\n",
       "        vertical-align: top;\n",
       "    }\n",
       "\n",
       "    .dataframe thead th {\n",
       "        text-align: right;\n",
       "    }\n",
       "</style>\n",
       "<table border=\"1\" class=\"dataframe\">\n",
       "  <thead>\n",
       "    <tr style=\"text-align: right;\">\n",
       "      <th></th>\n",
       "      <th>user_id</th>\n",
       "      <th>hotel_cluster</th>\n",
       "      <th>is_booking</th>\n",
       "      <th>srch_destination_id</th>\n",
       "      <th>rating</th>\n",
       "      <th>0</th>\n",
       "    </tr>\n",
       "  </thead>\n",
       "  <tbody>\n",
       "    <tr>\n",
       "      <th>0</th>\n",
       "      <td>137728</td>\n",
       "      <td>89</td>\n",
       "      <td>0</td>\n",
       "      <td>8747</td>\n",
       "      <td>1</td>\n",
       "      <td>86.0</td>\n",
       "    </tr>\n",
       "    <tr>\n",
       "      <th>1</th>\n",
       "      <td>614586</td>\n",
       "      <td>0</td>\n",
       "      <td>0</td>\n",
       "      <td>17520</td>\n",
       "      <td>1</td>\n",
       "      <td>86.0</td>\n",
       "    </tr>\n",
       "    <tr>\n",
       "      <th>2</th>\n",
       "      <td>1116495</td>\n",
       "      <td>46</td>\n",
       "      <td>0</td>\n",
       "      <td>8807</td>\n",
       "      <td>1</td>\n",
       "      <td>86.0</td>\n",
       "    </tr>\n",
       "    <tr>\n",
       "      <th>3</th>\n",
       "      <td>278958</td>\n",
       "      <td>57</td>\n",
       "      <td>0</td>\n",
       "      <td>18569</td>\n",
       "      <td>1</td>\n",
       "      <td>86.0</td>\n",
       "    </tr>\n",
       "    <tr>\n",
       "      <th>4</th>\n",
       "      <td>740919</td>\n",
       "      <td>90</td>\n",
       "      <td>0</td>\n",
       "      <td>18998</td>\n",
       "      <td>1</td>\n",
       "      <td>86.0</td>\n",
       "    </tr>\n",
       "    <tr>\n",
       "      <th>5</th>\n",
       "      <td>398779</td>\n",
       "      <td>33</td>\n",
       "      <td>0</td>\n",
       "      <td>24946</td>\n",
       "      <td>1</td>\n",
       "      <td>86.0</td>\n",
       "    </tr>\n",
       "    <tr>\n",
       "      <th>6</th>\n",
       "      <td>611721</td>\n",
       "      <td>13</td>\n",
       "      <td>0</td>\n",
       "      <td>12191</td>\n",
       "      <td>1</td>\n",
       "      <td>86.0</td>\n",
       "    </tr>\n",
       "    <tr>\n",
       "      <th>7</th>\n",
       "      <td>76900</td>\n",
       "      <td>4</td>\n",
       "      <td>0</td>\n",
       "      <td>11827</td>\n",
       "      <td>1</td>\n",
       "      <td>86.0</td>\n",
       "    </tr>\n",
       "    <tr>\n",
       "      <th>8</th>\n",
       "      <td>415427</td>\n",
       "      <td>94</td>\n",
       "      <td>0</td>\n",
       "      <td>27717</td>\n",
       "      <td>1</td>\n",
       "      <td>86.0</td>\n",
       "    </tr>\n",
       "    <tr>\n",
       "      <th>9</th>\n",
       "      <td>556564</td>\n",
       "      <td>5</td>\n",
       "      <td>0</td>\n",
       "      <td>27967</td>\n",
       "      <td>1</td>\n",
       "      <td>29.0</td>\n",
       "    </tr>\n",
       "    <tr>\n",
       "      <th>10</th>\n",
       "      <td>254727</td>\n",
       "      <td>73</td>\n",
       "      <td>0</td>\n",
       "      <td>8843</td>\n",
       "      <td>1</td>\n",
       "      <td>86.0</td>\n",
       "    </tr>\n",
       "    <tr>\n",
       "      <th>11</th>\n",
       "      <td>971504</td>\n",
       "      <td>49</td>\n",
       "      <td>0</td>\n",
       "      <td>12225</td>\n",
       "      <td>1</td>\n",
       "      <td>86.0</td>\n",
       "    </tr>\n",
       "    <tr>\n",
       "      <th>12</th>\n",
       "      <td>42229</td>\n",
       "      <td>48</td>\n",
       "      <td>0</td>\n",
       "      <td>1250</td>\n",
       "      <td>1</td>\n",
       "      <td>86.0</td>\n",
       "    </tr>\n",
       "    <tr>\n",
       "      <th>13</th>\n",
       "      <td>803755</td>\n",
       "      <td>33</td>\n",
       "      <td>0</td>\n",
       "      <td>12227</td>\n",
       "      <td>1</td>\n",
       "      <td>47.0</td>\n",
       "    </tr>\n",
       "    <tr>\n",
       "      <th>14</th>\n",
       "      <td>1118043</td>\n",
       "      <td>63</td>\n",
       "      <td>0</td>\n",
       "      <td>11435</td>\n",
       "      <td>1</td>\n",
       "      <td>86.0</td>\n",
       "    </tr>\n",
       "    <tr>\n",
       "      <th>15</th>\n",
       "      <td>710852</td>\n",
       "      <td>1</td>\n",
       "      <td>1</td>\n",
       "      <td>8250</td>\n",
       "      <td>5</td>\n",
       "      <td>86.0</td>\n",
       "    </tr>\n",
       "    <tr>\n",
       "      <th>16</th>\n",
       "      <td>955130</td>\n",
       "      <td>49</td>\n",
       "      <td>0</td>\n",
       "      <td>41757</td>\n",
       "      <td>1</td>\n",
       "      <td>86.0</td>\n",
       "    </tr>\n",
       "    <tr>\n",
       "      <th>17</th>\n",
       "      <td>88015</td>\n",
       "      <td>0</td>\n",
       "      <td>0</td>\n",
       "      <td>669</td>\n",
       "      <td>1</td>\n",
       "      <td>86.0</td>\n",
       "    </tr>\n",
       "    <tr>\n",
       "      <th>18</th>\n",
       "      <td>43584</td>\n",
       "      <td>20</td>\n",
       "      <td>0</td>\n",
       "      <td>11353</td>\n",
       "      <td>1</td>\n",
       "      <td>86.0</td>\n",
       "    </tr>\n",
       "    <tr>\n",
       "      <th>19</th>\n",
       "      <td>478622</td>\n",
       "      <td>80</td>\n",
       "      <td>0</td>\n",
       "      <td>8855</td>\n",
       "      <td>1</td>\n",
       "      <td>86.0</td>\n",
       "    </tr>\n",
       "    <tr>\n",
       "      <th>20</th>\n",
       "      <td>105100</td>\n",
       "      <td>71</td>\n",
       "      <td>0</td>\n",
       "      <td>42772</td>\n",
       "      <td>1</td>\n",
       "      <td>86.0</td>\n",
       "    </tr>\n",
       "    <tr>\n",
       "      <th>21</th>\n",
       "      <td>3853</td>\n",
       "      <td>41</td>\n",
       "      <td>0</td>\n",
       "      <td>7635</td>\n",
       "      <td>1</td>\n",
       "      <td>86.0</td>\n",
       "    </tr>\n",
       "    <tr>\n",
       "      <th>22</th>\n",
       "      <td>1094976</td>\n",
       "      <td>65</td>\n",
       "      <td>0</td>\n",
       "      <td>8791</td>\n",
       "      <td>1</td>\n",
       "      <td>86.0</td>\n",
       "    </tr>\n",
       "    <tr>\n",
       "      <th>23</th>\n",
       "      <td>1197687</td>\n",
       "      <td>47</td>\n",
       "      <td>0</td>\n",
       "      <td>8268</td>\n",
       "      <td>1</td>\n",
       "      <td>86.0</td>\n",
       "    </tr>\n",
       "    <tr>\n",
       "      <th>24</th>\n",
       "      <td>786197</td>\n",
       "      <td>29</td>\n",
       "      <td>1</td>\n",
       "      <td>23025</td>\n",
       "      <td>5</td>\n",
       "      <td>86.0</td>\n",
       "    </tr>\n",
       "    <tr>\n",
       "      <th>25</th>\n",
       "      <td>1038765</td>\n",
       "      <td>48</td>\n",
       "      <td>0</td>\n",
       "      <td>24919</td>\n",
       "      <td>1</td>\n",
       "      <td>86.0</td>\n",
       "    </tr>\n",
       "    <tr>\n",
       "      <th>26</th>\n",
       "      <td>422595</td>\n",
       "      <td>31</td>\n",
       "      <td>0</td>\n",
       "      <td>8810</td>\n",
       "      <td>1</td>\n",
       "      <td>86.0</td>\n",
       "    </tr>\n",
       "    <tr>\n",
       "      <th>27</th>\n",
       "      <td>512513</td>\n",
       "      <td>65</td>\n",
       "      <td>0</td>\n",
       "      <td>8864</td>\n",
       "      <td>1</td>\n",
       "      <td>86.0</td>\n",
       "    </tr>\n",
       "    <tr>\n",
       "      <th>28</th>\n",
       "      <td>20632</td>\n",
       "      <td>43</td>\n",
       "      <td>0</td>\n",
       "      <td>48157</td>\n",
       "      <td>1</td>\n",
       "      <td>86.0</td>\n",
       "    </tr>\n",
       "    <tr>\n",
       "      <th>29</th>\n",
       "      <td>631057</td>\n",
       "      <td>2</td>\n",
       "      <td>0</td>\n",
       "      <td>8788</td>\n",
       "      <td>1</td>\n",
       "      <td>86.0</td>\n",
       "    </tr>\n",
       "  </tbody>\n",
       "</table>\n",
       "</div>"
      ],
      "text/plain": [
       "    user_id  hotel_cluster  is_booking  srch_destination_id  rating     0\n",
       "0    137728             89           0                 8747       1  86.0\n",
       "1    614586              0           0                17520       1  86.0\n",
       "2   1116495             46           0                 8807       1  86.0\n",
       "3    278958             57           0                18569       1  86.0\n",
       "4    740919             90           0                18998       1  86.0\n",
       "5    398779             33           0                24946       1  86.0\n",
       "6    611721             13           0                12191       1  86.0\n",
       "7     76900              4           0                11827       1  86.0\n",
       "8    415427             94           0                27717       1  86.0\n",
       "9    556564              5           0                27967       1  29.0\n",
       "10   254727             73           0                 8843       1  86.0\n",
       "11   971504             49           0                12225       1  86.0\n",
       "12    42229             48           0                 1250       1  86.0\n",
       "13   803755             33           0                12227       1  47.0\n",
       "14  1118043             63           0                11435       1  86.0\n",
       "15   710852              1           1                 8250       5  86.0\n",
       "16   955130             49           0                41757       1  86.0\n",
       "17    88015              0           0                  669       1  86.0\n",
       "18    43584             20           0                11353       1  86.0\n",
       "19   478622             80           0                 8855       1  86.0\n",
       "20   105100             71           0                42772       1  86.0\n",
       "21     3853             41           0                 7635       1  86.0\n",
       "22  1094976             65           0                 8791       1  86.0\n",
       "23  1197687             47           0                 8268       1  86.0\n",
       "24   786197             29           1                23025       5  86.0\n",
       "25  1038765             48           0                24919       1  86.0\n",
       "26   422595             31           0                 8810       1  86.0\n",
       "27   512513             65           0                 8864       1  86.0\n",
       "28    20632             43           0                48157       1  86.0\n",
       "29   631057              2           0                 8788       1  86.0"
      ]
     },
     "execution_count": 60,
     "metadata": {
      "tags": []
     },
     "output_type": "execute_result"
    }
   ],
   "source": [
    "## Mappin user clusters back to dataframed\n",
    "def add_clusters_to_frame(or_data, clusters):\n",
    "    or_frame = pd.DataFrame(data=or_data)\n",
    "    or_frame_labelled = pd.concat([or_frame, pd.DataFrame(clusters)], axis=1)\n",
    "    return(or_frame_labelled)\n",
    "\n",
    "df = add_clusters_to_frame(test, clusters)\n",
    "\n",
    "df.head(30)\n"
   ]
  },
  {
   "cell_type": "markdown",
   "metadata": {
    "id": "BSeqbryuB31W",
    "colab_type": "text"
   },
   "source": [
    "#Remaking utility matrix and SVD"
   ]
  },
  {
   "cell_type": "code",
   "execution_count": 0,
   "metadata": {
    "id": "1h-OrZm6B_Ka",
    "colab_type": "code",
    "outputId": "c26d74a2-9687-4324-f2e5-e00b756efcaa",
    "colab": {
     "base_uri": "https://localhost:8080/",
     "height": 51.0
    }
   },
   "outputs": [
    {
     "name": "stdout",
     "output_type": "stream",
     "text": [
      "torch.Size([112, 70])\n",
      "torch.Size([100, 70])\n"
     ]
    }
   ],
   "source": [
    "from numpy.linalg import matrix_rank\n",
    "import torch\n",
    "# So far, we have \n",
    "# 1.) utility_matrix - user_id x hotel_cluter\n",
    "# 2.) clusters for every user_id\n",
    "# print(sliced_matrix[0:10, :])\n",
    "\n",
    "# We need to compress utility matrix by replacing user_id with user_cluster\n",
    "# and remove all rows where user_cluster repeats\n",
    "\n",
    "# returns rows andices of rows where are unique user_clusters\n",
    "\n",
    "unique_clusters = np.unique(clusters, return_index=True)\n",
    "# create matrix user_cluster x hotel_cluster\n",
    "clustered_matrix = sliced_matrix[unique_clusters[1]]\n",
    "\n",
    "\n",
    "# counts nuber of rows, where are different user_clusters with same hotel_cluster values\n",
    "# ?? we should avoid to have two user_clusters with same hotel_cluster values\n",
    "# print(np.unique(clustered_matrix, axis=0, return_counts=True)[1])\n",
    "\n",
    "def sgd(M,rank,num_epochs,lr,lamda):\n",
    "  # n: number of user_clusters (112)\n",
    "  n=M.shape[0]\n",
    "  # k: number of hotel_clusters (100)\n",
    "  k=M.shape[1]\n",
    "  # Define U and V\n",
    "  U=torch.rand(n,rank)\n",
    "  V=torch.rand(k,rank)\n",
    "\n",
    "  for epoch in range(num_epochs):\n",
    "    for r in range(n):\n",
    "      for c in range(k):\n",
    "        # We are updating U and V for every known value. \n",
    "        if M[r][c]>0:  \n",
    "          e1=M[r][c]-V[c,:].t()@U[r,:]\n",
    "          e2=M[r][c]-U[r,:].t()@V[c,:]\n",
    "          U[r,:]=U[r,:]+lr*(e1*V[c,:]-lamda*U[r,:])\n",
    "          V[c,:]=V[c,:]+lr*(e2*U[r,:]-lamda*V[c,:])\n",
    "  return U,V\n",
    "\n",
    "#  Find the rank of the cluster Matrix.\n",
    "rank=matrix_rank(clustered_matrix)\n",
    "\n",
    "U,V=sgd(clustered_matrix,rank,1000,0.01,0.01)\n",
    "print(U.shape)\n",
    "print(V.shape)\n"
   ]
  },
  {
   "cell_type": "code",
   "execution_count": 0,
   "metadata": {
    "id": "5Rh44dxwIVr4",
    "colab_type": "code",
    "outputId": "712ae5a7-785b-43d3-8b47-ef7b7607285c",
    "colab": {
     "base_uri": "https://localhost:8080/",
     "height": 238.0
    }
   },
   "outputs": [
    {
     "name": "stdout",
     "output_type": "stream",
     "text": [
      "[[ 8.07887268  6.27086163 11.64339066 ... 11.94241238 12.36885262\n",
      "   6.95656252]\n",
      " [ 6.59058475  6.97591972 10.43289661 ...  9.89057732  9.94933128\n",
      "   5.81643391]\n",
      " [ 9.01297188  8.05379105 11.58332825 ... 11.14805794 12.55107498\n",
      "   5.76701546]\n",
      " ...\n",
      " [ 2.6145246   1.65842652  3.51151919 ...  2.71439934  4.60982513\n",
      "   2.05827403]\n",
      " [ 8.74667835  7.06621981 11.01608658 ... 11.99051666 12.78038788\n",
      "   6.48054123]\n",
      " [ 3.5866189   2.39013934  3.85897541 ...  5.91353798  4.83666325\n",
      "   4.43325901]]\n"
     ]
    }
   ],
   "source": [
    "def svd(U,V,M):\n",
    "  n=M.shape[0]\n",
    "  k=M.shape[1]\n",
    "  new_M = np.zeros([n,k])\n",
    "  for r in range(n): \n",
    "    for c in range(k):\n",
    "      new_M[r][c]=U[r,:]@V[c,:].T\n",
    "  return new_M\n",
    "\n",
    "new_clustered=svd(U,V,clustered_matrix)\n",
    "print(new_clustered)\n"
   ]
  },
  {
   "cell_type": "markdown",
   "metadata": {
    "id": "qPnUTmzAuZZG",
    "colab_type": "text"
   },
   "source": [
    "# Combination"
   ]
  },
  {
   "cell_type": "markdown",
   "metadata": {
    "id": "faCOyp0LuiFy",
    "colab_type": "text"
   },
   "source": [
    "Creating D matrix, which is (srch_destination_id x hotel_cluster):"
   ]
  },
  {
   "cell_type": "code",
   "execution_count": 0,
   "metadata": {
    "id": "w2aikJujvuiS",
    "colab_type": "code",
    "colab": {}
   },
   "outputs": [],
   "source": [
    "# remove is_booking column which is no more needed\n",
    "subset_data = subset_data.iloc[:, [0, 1, 3, 4]]\n",
    "#  sort by srch_destination_in\n",
    "subset_data.sort_values(by=['srch_destination_id'], inplace=True)\n",
    "\n",
    "np_subset_matrix = np.array(subset_data)\n",
    "\n",
    "#orig_matrix = np.array([[0, 0, 0, 0], [1, 1, 1, 1], [2, 1, 5, 1], [3, 1, 5, 3], [4, 0, 1, 1], [5, 2, 0, 2]])\n",
    "\n",
    "last_dest_id = np_subset_matrix[-1, 2]\n",
    "n_hotel_clusters = 100\n",
    "\n",
    "# empty D matrix: (n of destinations x n of hotel clusters)\n",
    "# !!! destination_ids start with index 0 (e.i. dest_id 1 is at position 0) !!!\n",
    "destination_matrix = np.zeros([last_dest_id, n_hotel_clusters])"
   ]
  },
  {
   "cell_type": "code",
   "execution_count": 0,
   "metadata": {
    "id": "sQxwFE5Bug3U",
    "colab_type": "code",
    "outputId": "d375069f-5bfc-4079-bd14-78b0add9e518",
    "colab": {
     "base_uri": "https://localhost:8080/",
     "height": 1000.0
    }
   },
   "outputs": [
    {
     "name": "stdout",
     "output_type": "stream",
     "text": [
      "[[0.         0.         0.         0.         0.         0.\n",
      "  0.         0.         0.         0.         0.         0.\n",
      "  0.         0.         0.         0.         0.         0.\n",
      "  0.         0.         1.         0.         0.         0.\n",
      "  0.         0.         0.         0.         0.         0.\n",
      "  0.         0.         0.         0.         0.         0.\n",
      "  0.         0.         0.         0.         0.         0.\n",
      "  0.         0.         0.         0.         0.         0.\n",
      "  0.         0.         0.         0.         0.         0.\n",
      "  0.         0.         0.         0.         0.         0.\n",
      "  1.         0.         0.         0.         0.         0.\n",
      "  0.         0.         0.         0.         0.         0.\n",
      "  0.         0.         0.         0.         0.         0.\n",
      "  0.         0.         0.         0.         0.         0.\n",
      "  0.         0.         0.         0.         0.         0.\n",
      "  0.         0.         0.         0.         0.         0.\n",
      "  0.         0.         0.         0.        ]\n",
      " [0.         0.         0.         0.         0.         0.\n",
      "  0.         0.         0.         0.         0.         0.\n",
      "  0.         0.         0.         0.         0.         0.\n",
      "  0.         0.         0.         0.         0.         0.\n",
      "  0.         0.         0.         0.         0.         0.\n",
      "  0.         0.         0.         0.         0.         0.\n",
      "  0.         0.         0.         0.         0.         0.\n",
      "  0.         0.         0.         0.         0.         0.\n",
      "  0.         0.         0.         0.         0.         0.\n",
      "  0.         0.         0.         0.         0.         0.\n",
      "  0.         0.         0.         0.         0.         0.\n",
      "  0.         0.         0.         0.         0.         0.\n",
      "  0.         0.         0.         0.         0.         0.\n",
      "  0.         0.         0.         0.         0.         0.\n",
      "  0.         0.         0.         0.         0.         0.\n",
      "  0.         0.         0.         0.         0.         0.\n",
      "  0.         0.         0.         0.        ]\n",
      " [0.         0.         0.         0.         0.         0.\n",
      "  0.         0.         0.         0.         0.         0.\n",
      "  0.         0.         0.         0.         0.         0.\n",
      "  0.         0.         0.         0.         0.         0.\n",
      "  0.         0.         0.         0.         0.         0.\n",
      "  0.         0.         0.         0.         0.         0.\n",
      "  0.         0.         0.         0.         0.         0.\n",
      "  0.         0.         0.         0.         0.         0.\n",
      "  0.         0.         0.         0.         0.         0.\n",
      "  0.         0.         0.         0.         0.         0.\n",
      "  0.         0.         0.         0.         0.         0.\n",
      "  0.         0.         0.         0.         0.         0.\n",
      "  0.         0.         0.         0.         0.         0.\n",
      "  0.         0.         0.         0.         0.         0.\n",
      "  0.         0.         0.         0.         0.         0.\n",
      "  0.         0.         0.         0.         0.         0.\n",
      "  0.         0.         0.         0.        ]\n",
      " [0.         0.         0.         0.         0.         0.\n",
      "  0.         0.         0.         0.         0.         0.\n",
      "  0.         0.         0.         0.         0.         0.\n",
      "  0.         0.         0.         0.         0.         0.\n",
      "  0.         1.         0.         0.         0.         0.\n",
      "  1.         0.         1.         0.         0.         0.\n",
      "  0.         0.         0.         0.         1.         0.\n",
      "  0.         0.         0.         0.         0.         0.\n",
      "  0.         0.         0.         0.         0.         0.\n",
      "  0.         0.         0.         0.         0.         0.\n",
      "  0.         0.         1.         0.         0.         0.\n",
      "  0.         3.         0.         0.         0.         0.\n",
      "  0.         0.         0.         0.         0.         0.\n",
      "  0.         0.         0.         1.         2.33333333 0.\n",
      "  0.         0.         0.         0.         0.         0.\n",
      "  0.         0.         0.         0.         0.         0.\n",
      "  0.         0.         0.         0.        ]\n",
      " [0.         0.         0.         0.         0.         0.\n",
      "  0.         0.         0.         0.         0.         0.\n",
      "  0.         0.         0.         0.         0.         0.\n",
      "  0.         0.         0.         0.         0.         0.\n",
      "  0.         0.         0.         0.         0.         0.\n",
      "  0.         0.         0.         0.         0.         0.\n",
      "  0.         0.         0.         0.         0.         0.\n",
      "  0.         0.         0.         0.         0.         0.\n",
      "  0.         0.         0.         0.         0.         0.\n",
      "  0.         0.         0.         0.         0.         0.\n",
      "  0.         0.         0.         0.         0.         0.\n",
      "  0.         0.         0.         0.         0.         0.\n",
      "  0.         0.         0.         0.         0.         0.\n",
      "  0.         0.         0.         0.         0.         0.\n",
      "  0.         0.         0.         0.         0.         0.\n",
      "  0.         0.         0.         0.         0.         0.\n",
      "  0.         0.         0.         0.        ]\n",
      " [0.         0.         0.         0.         0.         0.\n",
      "  0.         0.         0.         0.         0.         0.\n",
      "  0.         0.         0.         0.         0.         0.\n",
      "  0.         0.         0.         0.         0.         0.\n",
      "  0.         0.         0.         0.         0.         0.\n",
      "  0.         0.         0.         0.         0.         0.\n",
      "  0.         0.         0.         0.         0.         0.\n",
      "  0.         0.         0.         0.         0.         0.\n",
      "  0.         0.         0.         0.         0.         0.\n",
      "  0.         0.         0.         0.         0.         0.\n",
      "  0.         0.         0.         0.         0.         0.\n",
      "  0.         0.         0.         0.         0.         0.\n",
      "  0.         0.         0.         0.         0.         0.\n",
      "  0.         0.         0.         0.         0.         0.\n",
      "  0.         0.         0.         0.         0.         0.\n",
      "  0.         0.         0.         0.         0.         0.\n",
      "  0.         0.         0.         0.        ]\n",
      " [0.         0.         0.         0.         0.         0.\n",
      "  0.         0.         0.         0.         0.         0.\n",
      "  0.         0.         0.         0.         0.         0.\n",
      "  0.         0.         0.         0.         0.         0.\n",
      "  0.         0.         0.         0.         0.         0.\n",
      "  0.         0.         0.         0.         0.         0.\n",
      "  0.         0.         0.         0.         0.         0.\n",
      "  0.         0.         0.         0.         0.         0.\n",
      "  0.         0.         0.         0.         0.         0.\n",
      "  0.         0.         0.         0.         0.         0.\n",
      "  0.         0.         0.         0.         0.         0.\n",
      "  0.         0.         0.         0.         0.         0.\n",
      "  0.         0.         0.         0.         0.         0.\n",
      "  0.         0.         0.         0.         0.         0.\n",
      "  0.         0.         0.         0.         0.         0.\n",
      "  0.         0.         0.         0.         0.         0.\n",
      "  0.         0.         0.         0.        ]\n",
      " [0.         0.         0.         0.         0.         0.\n",
      "  0.         1.         0.         0.         1.         0.\n",
      "  0.         0.         0.         0.         1.         0.\n",
      "  0.         0.         0.         0.         0.         0.\n",
      "  0.         0.         0.         0.         0.         0.\n",
      "  0.         0.         1.         0.         0.         0.\n",
      "  0.         0.         0.         0.         0.         0.\n",
      "  1.         1.         0.         0.         0.         0.\n",
      "  1.         0.         0.         1.         0.         0.\n",
      "  0.         0.         0.         0.         0.         0.\n",
      "  1.         0.         0.         0.         0.         0.\n",
      "  0.         0.         0.         0.         0.         0.\n",
      "  0.         0.         0.         0.         1.         1.\n",
      "  0.         0.         0.         0.         0.         0.\n",
      "  0.         0.         0.         0.         0.         0.\n",
      "  0.         1.         0.         0.         0.         0.\n",
      "  0.         0.         0.         0.        ]\n",
      " [0.         0.         0.         0.         0.         0.\n",
      "  0.         0.         0.         0.         0.         0.\n",
      "  0.         0.         0.         0.         0.         0.\n",
      "  0.         0.         1.         0.         0.         0.\n",
      "  0.         0.         0.         0.         0.         0.\n",
      "  0.         0.         0.         0.         0.         0.\n",
      "  0.         0.         0.         0.         0.         0.\n",
      "  0.         0.         0.         0.         0.         0.\n",
      "  0.         0.         0.         0.         0.         0.\n",
      "  0.         0.         0.         0.         0.         0.\n",
      "  0.         0.         0.         0.         0.         0.\n",
      "  0.         0.         0.         0.         0.         0.\n",
      "  0.         0.         0.         0.         0.         0.\n",
      "  0.         0.         0.         0.         0.         0.\n",
      "  0.         0.         0.         0.         0.         0.\n",
      "  0.         0.         0.         0.         0.         0.\n",
      "  0.         0.         0.         0.        ]\n",
      " [0.         0.         0.         0.         0.         0.\n",
      "  0.         0.         0.         0.         0.         0.\n",
      "  0.         0.         0.         0.         0.         0.\n",
      "  0.         0.         0.         0.         0.         0.\n",
      "  0.         0.         0.         0.         0.         0.\n",
      "  0.         0.         0.         0.         0.         0.\n",
      "  0.         0.         0.         0.         0.         0.\n",
      "  0.         0.         0.         0.         0.         0.\n",
      "  0.         0.         0.         0.         0.         0.\n",
      "  0.         0.         0.         0.         0.         1.\n",
      "  0.         0.         0.         0.         0.         0.\n",
      "  0.         0.         0.         0.         0.         0.\n",
      "  0.         0.         0.         0.         0.         0.\n",
      "  0.         0.         0.         0.         0.         0.\n",
      "  0.         0.         0.         0.         0.         0.\n",
      "  0.         0.         0.         0.         0.         0.\n",
      "  0.         0.         0.         0.        ]]\n"
     ]
    }
   ],
   "source": [
    "# calculate part of destination matrix for each hotel cluster separately\n",
    "for i in range(n_hotel_clusters):\n",
    "    # create filtered_matrix only with rows where hotel cluster == i\n",
    "    indices_to_filter = np.where(np_subset_matrix[:, 1] == i)\n",
    "    filtered_matrix = np_subset_matrix[indices_to_filter]\n",
    "\n",
    "    # if there are no values for looped hotel_cluster, then go to next iteration\n",
    "    if len(filtered_matrix) == 0:\n",
    "        continue\n",
    "    # create matrix with ratings only\n",
    "    rank_matrix = filtered_matrix[:, 3]\n",
    "\n",
    "    # group by destination and sum all ratings for each destination\n",
    "    d = np.diff(filtered_matrix[:, -2])\n",
    "    d = np.where(d)[0]\n",
    "    indices = np.r_[0, d + 1]\n",
    "    # summed all ratings for each destination\n",
    "    summed_rating = np.add.reduceat(rank_matrix, indices, axis=0)\n",
    "\n",
    "    # get number of ratings for each destination\n",
    "    np_counts = np.array(np.unique(filtered_matrix[:, 2], return_counts=True))\n",
    "    # transpose matrix to get values by columns\n",
    "    # destination_ids of all destinations used\n",
    "    destination_ids = np_counts.T[:, 0]\n",
    "    # number of times one hotel_cluster has been rated in one  destination_id\n",
    "    count_values = np_counts.T[:, 1]\n",
    "\n",
    "    # calculate average rating for each destination\n",
    "    average = np.divide(summed_rating, count_values)\n",
    "\n",
    "    # fill destination matrix with average values\n",
    "    # shift each destination_id in matrix by one to start from index 0\n",
    "    destination_matrix[destination_ids - 1, i] = average\n",
    "\n",
    "print(destination_matrix[:10])\n"
   ]
  },
  {
   "cell_type": "markdown",
   "metadata": {
    "id": "AdiKfl63Lqtj",
    "colab_type": "text"
   },
   "source": [
    "Create Matrix R = M x D"
   ]
  },
  {
   "cell_type": "code",
   "execution_count": 0,
   "metadata": {
    "id": "fYX54xdkLqAZ",
    "colab_type": "code",
    "outputId": "de359404-e08e-4303-9da9-3052c4ad3a7d",
    "colab": {
     "base_uri": "https://localhost:8080/",
     "height": 34.0
    }
   },
   "outputs": [
    {
     "name": "stdout",
     "output_type": "stream",
     "text": [
      "(112, 65035)\n"
     ]
    }
   ],
   "source": [
    "matrix_r = new_clustered.dot(destination_matrix.T)\n",
    "\n",
    "new_clustered.shape\n",
    "destination_matrix.shape\n",
    "\n",
    "# Matrix R has shape n_of_user_clusters x n_of_destination_ids\n",
    "print(matrix_r.shape)"
   ]
  },
  {
   "cell_type": "markdown",
   "metadata": {
    "id": "35LJL9BgZ6kN",
    "colab_type": "text"
   },
   "source": [
    "Find best hotel_cluster for given user_cluster"
   ]
  },
  {
   "cell_type": "code",
   "execution_count": 0,
   "metadata": {
    "id": "tbYMBxp6MtcR",
    "colab_type": "code",
    "outputId": "22ab3214-b5f5-45b4-f6d0-4f700c4d78a3",
    "colab": {
     "base_uri": "https://localhost:8080/",
     "height": 34.0
    }
   },
   "outputs": [
    {
     "name": "stdout",
     "output_type": "stream",
     "text": [
      "for user_cluster 1, best hotel_clusters are [67 62 32 53 33]\n"
     ]
    }
   ],
   "source": [
    "selected_user_cluster = 1\n",
    "\n",
    "# find best destination_id for given user_cluster\n",
    "sel_row = matrix_r[selected_user_cluster]\n",
    "top_destination_id = np.argsort(-sel_row)[0]\n",
    "\n",
    "# find best hotel_cluster for given destination_id\n",
    "sel_dest_row = destination_matrix[top_destination_id]\n",
    "top_5_h_clusters = np.argsort(-sel_dest_row)[:5]\n",
    "\n",
    "# print 5 best matches for given user_cluster\n",
    "print('for user_cluster {}, best hotel_clusters are {}'.format(selected_user_cluster, top_5_h_clusters))"
   ]
  },
  {
   "cell_type": "markdown",
   "metadata": {
    "id": "GI8mK4PNsa0H",
    "colab_type": "text"
   },
   "source": [
    "# Decision Tree Classifier for Unseen Users\n"
   ]
  },
  {
   "cell_type": "code",
   "execution_count": 0,
   "metadata": {
    "id": "8fmxdL0eu4Kp",
    "colab_type": "code",
    "colab": {}
   },
   "outputs": [],
   "source": [
    "## Defining User Profile Features ##\n",
    "user_profile_features = [\"user_id\",\"site_name\",\"posa_continent\",\n",
    "                         \"user_location_country\",\"user_location_region\",\n",
    "                         \"user_location_city\",\n",
    "                         \"is_mobile\",\"is_package\",\n",
    "                         \"channel\"]"
   ]
  },
  {
   "cell_type": "code",
   "execution_count": 0,
   "metadata": {
    "id": "Fmn-aH5qa9v8",
    "colab_type": "code",
    "outputId": "c7e2bc6c-76c8-4b10-d38b-cc8d345e84eb",
    "colab": {
     "base_uri": "https://localhost:8080/",
     "height": 224.0
    }
   },
   "outputs": [
    {
     "data": {
      "text/html": [
       "<div>\n",
       "<style scoped>\n",
       "    .dataframe tbody tr th:only-of-type {\n",
       "        vertical-align: middle;\n",
       "    }\n",
       "\n",
       "    .dataframe tbody tr th {\n",
       "        vertical-align: top;\n",
       "    }\n",
       "\n",
       "    .dataframe thead th {\n",
       "        text-align: right;\n",
       "    }\n",
       "</style>\n",
       "<table border=\"1\" class=\"dataframe\">\n",
       "  <thead>\n",
       "    <tr style=\"text-align: right;\">\n",
       "      <th></th>\n",
       "      <th>user_id</th>\n",
       "      <th>site_name</th>\n",
       "      <th>posa_continent</th>\n",
       "      <th>user_location_country</th>\n",
       "      <th>user_location_region</th>\n",
       "      <th>user_location_city</th>\n",
       "      <th>is_mobile</th>\n",
       "      <th>is_package</th>\n",
       "      <th>channel</th>\n",
       "    </tr>\n",
       "  </thead>\n",
       "  <tbody>\n",
       "    <tr>\n",
       "      <th>0</th>\n",
       "      <td>137728</td>\n",
       "      <td>2</td>\n",
       "      <td>3</td>\n",
       "      <td>181</td>\n",
       "      <td>238</td>\n",
       "      <td>14762</td>\n",
       "      <td>0</td>\n",
       "      <td>1</td>\n",
       "      <td>9</td>\n",
       "    </tr>\n",
       "    <tr>\n",
       "      <th>1</th>\n",
       "      <td>614586</td>\n",
       "      <td>2</td>\n",
       "      <td>3</td>\n",
       "      <td>66</td>\n",
       "      <td>174</td>\n",
       "      <td>3968</td>\n",
       "      <td>0</td>\n",
       "      <td>0</td>\n",
       "      <td>9</td>\n",
       "    </tr>\n",
       "    <tr>\n",
       "      <th>2</th>\n",
       "      <td>1116495</td>\n",
       "      <td>2</td>\n",
       "      <td>3</td>\n",
       "      <td>66</td>\n",
       "      <td>356</td>\n",
       "      <td>22202</td>\n",
       "      <td>0</td>\n",
       "      <td>0</td>\n",
       "      <td>9</td>\n",
       "    </tr>\n",
       "    <tr>\n",
       "      <th>3</th>\n",
       "      <td>278958</td>\n",
       "      <td>2</td>\n",
       "      <td>3</td>\n",
       "      <td>66</td>\n",
       "      <td>356</td>\n",
       "      <td>22202</td>\n",
       "      <td>0</td>\n",
       "      <td>1</td>\n",
       "      <td>9</td>\n",
       "    </tr>\n",
       "    <tr>\n",
       "      <th>4</th>\n",
       "      <td>740919</td>\n",
       "      <td>37</td>\n",
       "      <td>1</td>\n",
       "      <td>69</td>\n",
       "      <td>574</td>\n",
       "      <td>28513</td>\n",
       "      <td>1</td>\n",
       "      <td>1</td>\n",
       "      <td>9</td>\n",
       "    </tr>\n",
       "  </tbody>\n",
       "</table>\n",
       "</div>"
      ],
      "text/plain": [
       "   user_id  site_name  posa_continent  ...  is_mobile  is_package  channel\n",
       "0   137728          2               3  ...          0           1        9\n",
       "1   614586          2               3  ...          0           0        9\n",
       "2  1116495          2               3  ...          0           0        9\n",
       "3   278958          2               3  ...          0           1        9\n",
       "4   740919         37               1  ...          1           1        9\n",
       "\n",
       "[5 rows x 9 columns]"
      ]
     },
     "execution_count": 34,
     "metadata": {
      "tags": []
     },
     "output_type": "execute_result"
    }
   ],
   "source": [
    "## Filtering data on user profile features ##\n",
    "users_data = train.filter(user_profile_features)\n",
    "users_data.head()"
   ]
  },
  {
   "cell_type": "code",
   "execution_count": 0,
   "metadata": {
    "id": "P6lGANsxbTBN",
    "colab_type": "code",
    "outputId": "028a9e7d-70b1-4f7d-9347-9fe072a5de30",
    "colab": {
     "base_uri": "https://localhost:8080/",
     "height": 224.0
    }
   },
   "outputs": [
    {
     "data": {
      "text/html": [
       "<div>\n",
       "<style scoped>\n",
       "    .dataframe tbody tr th:only-of-type {\n",
       "        vertical-align: middle;\n",
       "    }\n",
       "\n",
       "    .dataframe tbody tr th {\n",
       "        vertical-align: top;\n",
       "    }\n",
       "\n",
       "    .dataframe thead th {\n",
       "        text-align: right;\n",
       "    }\n",
       "</style>\n",
       "<table border=\"1\" class=\"dataframe\">\n",
       "  <thead>\n",
       "    <tr style=\"text-align: right;\">\n",
       "      <th></th>\n",
       "      <th>user_id</th>\n",
       "      <th>site_name</th>\n",
       "      <th>posa_continent</th>\n",
       "      <th>user_location_country</th>\n",
       "      <th>user_location_region</th>\n",
       "      <th>user_location_city</th>\n",
       "      <th>is_mobile</th>\n",
       "      <th>is_package</th>\n",
       "      <th>channel</th>\n",
       "      <th>user_cluster</th>\n",
       "    </tr>\n",
       "  </thead>\n",
       "  <tbody>\n",
       "    <tr>\n",
       "      <th>0</th>\n",
       "      <td>137728</td>\n",
       "      <td>2</td>\n",
       "      <td>3</td>\n",
       "      <td>181</td>\n",
       "      <td>238</td>\n",
       "      <td>14762</td>\n",
       "      <td>0</td>\n",
       "      <td>1</td>\n",
       "      <td>9</td>\n",
       "      <td>0</td>\n",
       "    </tr>\n",
       "    <tr>\n",
       "      <th>1</th>\n",
       "      <td>614586</td>\n",
       "      <td>2</td>\n",
       "      <td>3</td>\n",
       "      <td>66</td>\n",
       "      <td>174</td>\n",
       "      <td>3968</td>\n",
       "      <td>0</td>\n",
       "      <td>0</td>\n",
       "      <td>9</td>\n",
       "      <td>0</td>\n",
       "    </tr>\n",
       "    <tr>\n",
       "      <th>2</th>\n",
       "      <td>1116495</td>\n",
       "      <td>2</td>\n",
       "      <td>3</td>\n",
       "      <td>66</td>\n",
       "      <td>356</td>\n",
       "      <td>22202</td>\n",
       "      <td>0</td>\n",
       "      <td>0</td>\n",
       "      <td>9</td>\n",
       "      <td>3</td>\n",
       "    </tr>\n",
       "    <tr>\n",
       "      <th>3</th>\n",
       "      <td>278958</td>\n",
       "      <td>2</td>\n",
       "      <td>3</td>\n",
       "      <td>66</td>\n",
       "      <td>356</td>\n",
       "      <td>22202</td>\n",
       "      <td>0</td>\n",
       "      <td>1</td>\n",
       "      <td>9</td>\n",
       "      <td>0</td>\n",
       "    </tr>\n",
       "    <tr>\n",
       "      <th>4</th>\n",
       "      <td>740919</td>\n",
       "      <td>37</td>\n",
       "      <td>1</td>\n",
       "      <td>69</td>\n",
       "      <td>574</td>\n",
       "      <td>28513</td>\n",
       "      <td>1</td>\n",
       "      <td>1</td>\n",
       "      <td>9</td>\n",
       "      <td>0</td>\n",
       "    </tr>\n",
       "  </tbody>\n",
       "</table>\n",
       "</div>"
      ],
      "text/plain": [
       "   user_id  site_name  posa_continent  ...  is_package  channel  user_cluster\n",
       "0   137728          2               3  ...           1        9             0\n",
       "1   614586          2               3  ...           0        9             0\n",
       "2  1116495          2               3  ...           0        9             3\n",
       "3   278958          2               3  ...           1        9             0\n",
       "4   740919         37               1  ...           1        9             0\n",
       "\n",
       "[5 rows x 10 columns]"
      ]
     },
     "execution_count": 35,
     "metadata": {
      "tags": []
     },
     "output_type": "execute_result"
    }
   ],
   "source": [
    "## Adding dummy clusters, this step is not necessary when we have the real clusters data ##\n",
    "import random\n",
    "import time\n",
    "clusters_dummy = []\n",
    "\n",
    "for i in range(users_data.shape[0]):\n",
    "    random.seed(time.time())\n",
    "    clusters_dummy.append(random.randint(0, 3))\n",
    "\n",
    "users_data[\"user_cluster\"] = clusters_dummy\n",
    "users_data.head()"
   ]
  },
  {
   "cell_type": "code",
   "execution_count": 0,
   "metadata": {
    "id": "O-16WVFybvce",
    "colab_type": "code",
    "outputId": "cc538466-9084-4a3b-92fb-86d20860a690",
    "colab": {
     "base_uri": "https://localhost:8080/",
     "height": 224.0
    }
   },
   "outputs": [
    {
     "data": {
      "text/html": [
       "<div>\n",
       "<style scoped>\n",
       "    .dataframe tbody tr th:only-of-type {\n",
       "        vertical-align: middle;\n",
       "    }\n",
       "\n",
       "    .dataframe tbody tr th {\n",
       "        vertical-align: top;\n",
       "    }\n",
       "\n",
       "    .dataframe thead th {\n",
       "        text-align: right;\n",
       "    }\n",
       "</style>\n",
       "<table border=\"1\" class=\"dataframe\">\n",
       "  <thead>\n",
       "    <tr style=\"text-align: right;\">\n",
       "      <th></th>\n",
       "      <th>site_name</th>\n",
       "      <th>posa_continent</th>\n",
       "      <th>user_location_country</th>\n",
       "      <th>user_location_region</th>\n",
       "      <th>user_location_city</th>\n",
       "      <th>is_mobile</th>\n",
       "      <th>is_package</th>\n",
       "      <th>channel</th>\n",
       "    </tr>\n",
       "  </thead>\n",
       "  <tbody>\n",
       "    <tr>\n",
       "      <th>0</th>\n",
       "      <td>2</td>\n",
       "      <td>3</td>\n",
       "      <td>181</td>\n",
       "      <td>238</td>\n",
       "      <td>14762</td>\n",
       "      <td>0</td>\n",
       "      <td>1</td>\n",
       "      <td>9</td>\n",
       "    </tr>\n",
       "    <tr>\n",
       "      <th>1</th>\n",
       "      <td>2</td>\n",
       "      <td>3</td>\n",
       "      <td>66</td>\n",
       "      <td>174</td>\n",
       "      <td>3968</td>\n",
       "      <td>0</td>\n",
       "      <td>0</td>\n",
       "      <td>9</td>\n",
       "    </tr>\n",
       "    <tr>\n",
       "      <th>2</th>\n",
       "      <td>2</td>\n",
       "      <td>3</td>\n",
       "      <td>66</td>\n",
       "      <td>356</td>\n",
       "      <td>22202</td>\n",
       "      <td>0</td>\n",
       "      <td>0</td>\n",
       "      <td>9</td>\n",
       "    </tr>\n",
       "    <tr>\n",
       "      <th>3</th>\n",
       "      <td>2</td>\n",
       "      <td>3</td>\n",
       "      <td>66</td>\n",
       "      <td>356</td>\n",
       "      <td>22202</td>\n",
       "      <td>0</td>\n",
       "      <td>1</td>\n",
       "      <td>9</td>\n",
       "    </tr>\n",
       "    <tr>\n",
       "      <th>4</th>\n",
       "      <td>37</td>\n",
       "      <td>1</td>\n",
       "      <td>69</td>\n",
       "      <td>574</td>\n",
       "      <td>28513</td>\n",
       "      <td>1</td>\n",
       "      <td>1</td>\n",
       "      <td>9</td>\n",
       "    </tr>\n",
       "  </tbody>\n",
       "</table>\n",
       "</div>"
      ],
      "text/plain": [
       "   site_name  posa_continent  ...  is_package  channel\n",
       "0          2               3  ...           1        9\n",
       "1          2               3  ...           0        9\n",
       "2          2               3  ...           0        9\n",
       "3          2               3  ...           1        9\n",
       "4         37               1  ...           1        9\n",
       "\n",
       "[5 rows x 8 columns]"
      ]
     },
     "execution_count": 36,
     "metadata": {
      "tags": []
     },
     "output_type": "execute_result"
    }
   ],
   "source": [
    "#################### Decision Tree Classifier ####################\n",
    "import numpy as np\n",
    "from sklearn.tree import DecisionTreeClassifier\n",
    "from sklearn.model_selection import cross_val_score\n",
    "from sklearn.metrics import classification_report, confusion_matrix\n",
    "\n",
    "### Features ###\n",
    "X = users_data.iloc[:,1:-1]\n",
    "\n",
    "### Target Variable ###\n",
    "Y = users_data.iloc[:,-1]\n",
    "X.head()"
   ]
  },
  {
   "cell_type": "code",
   "execution_count": 0,
   "metadata": {
    "id": "ndG-Vd0ocV6I",
    "colab_type": "code",
    "colab": {}
   },
   "outputs": [],
   "source": [
    "### Splitting the data ###\n",
    "from sklearn.model_selection import train_test_split\n",
    "X_train, X_test, y_train, y_test = train_test_split(X, Y, test_size=0.20)"
   ]
  },
  {
   "cell_type": "code",
   "execution_count": 0,
   "metadata": {
    "id": "4xE_XubFcgb-",
    "colab_type": "code",
    "outputId": "72ca297d-8d50-404e-aed3-cec3d8c94389",
    "colab": {
     "base_uri": "https://localhost:8080/",
     "height": 34.0
    }
   },
   "outputs": [
    {
     "name": "stdout",
     "output_type": "stream",
     "text": [
      "0.2524273125106621 {'max_depth': 3}\n"
     ]
    }
   ],
   "source": [
    "from sklearn.model_selection import GridSearchCV\n",
    "\n",
    "parameters = {'max_depth':range(3,20)}\n",
    "clf = GridSearchCV(DecisionTreeClassifier(), parameters, n_jobs=4)\n",
    "clf.fit(X=X_train, y=y_train)\n",
    "\n",
    "tree_model = clf.best_estimator_\n",
    "print (clf.best_score_, clf.best_params_)"
   ]
  },
  {
   "cell_type": "code",
   "execution_count": 0,
   "metadata": {
    "id": "jmqbbM1ecqYJ",
    "colab_type": "code",
    "outputId": "a897305d-92c6-4728-ac85-fb6894db041c",
    "colab": {
     "base_uri": "https://localhost:8080/",
     "height": 204.0
    }
   },
   "outputs": [
    {
     "name": "stdout",
     "output_type": "stream",
     "text": [
      "              precision    recall  f1-score   support\n",
      "\n",
      "           0       0.25      0.92      0.39     18871\n",
      "           1       0.00      0.00      0.00     18749\n",
      "           2       0.27      0.03      0.05     18686\n",
      "           3       0.27      0.06      0.10     19035\n",
      "\n",
      "    accuracy                           0.25     75341\n",
      "   macro avg       0.20      0.25      0.14     75341\n",
      "weighted avg       0.20      0.25      0.14     75341\n",
      "\n"
     ]
    }
   ],
   "source": [
    "y_pred = clf.predict(X_test)\n",
    "\n",
    "print(classification_report(y_test, y_pred))"
   ]
  },
  {
   "cell_type": "code",
   "execution_count": 0,
   "metadata": {
    "id": "SFGVrBWM4vp6",
    "colab_type": "code",
    "colab": {}
   },
   "outputs": [],
   "source": [
    ""
   ]
  },
  {
   "cell_type": "code",
   "execution_count": 0,
   "metadata": {
    "id": "MIKopgbZ579M",
    "colab_type": "code",
    "colab": {}
   },
   "outputs": [],
   "source": [
    ""
   ]
  }
 ],
 "metadata": {
  "colab": {
   "name": "FM_team.ipynb",
   "provenance": [],
   "collapsed_sections": [],
   "toc_visible": true,
   "machine_shape": "hm"
  },
  "kernelspec": {
   "name": "python3",
   "display_name": "Python 3"
  }
 },
 "nbformat": 4,
 "nbformat_minor": 0
}
